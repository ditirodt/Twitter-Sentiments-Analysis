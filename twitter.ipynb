{
 "cells": [
  {
   "cell_type": "code",
   "execution_count": 3,
   "metadata": {
    "executionInfo": {
     "elapsed": 768,
     "status": "ok",
     "timestamp": 1653905719020,
     "user": {
      "displayName": "ditiro rampate",
      "userId": "08759416330625146514"
     },
     "user_tz": 0
    },
    "id": "_iXZGNpP7Ez-"
   },
   "outputs": [
    {
     "ename": "ModuleNotFoundError",
     "evalue": "No module named 'wordcloud'",
     "output_type": "error",
     "traceback": [
      "\u001b[1;31m---------------------------------------------------------------------------\u001b[0m",
      "\u001b[1;31mModuleNotFoundError\u001b[0m                       Traceback (most recent call last)",
      "Input \u001b[1;32mIn [3]\u001b[0m, in \u001b[0;36m<cell line: 7>\u001b[1;34m()\u001b[0m\n\u001b[0;32m      5\u001b[0m \u001b[38;5;28;01mimport\u001b[39;00m  \u001b[38;5;21;01mmatplotlib\u001b[39;00m\u001b[38;5;21;01m.\u001b[39;00m\u001b[38;5;21;01mpyplot\u001b[39;00m \u001b[38;5;28;01mas\u001b[39;00m \u001b[38;5;21;01mplt\u001b[39;00m\n\u001b[0;32m      6\u001b[0m \u001b[38;5;28;01mimport\u001b[39;00m \u001b[38;5;21;01mre\u001b[39;00m\n\u001b[1;32m----> 7\u001b[0m \u001b[38;5;28;01mfrom\u001b[39;00m \u001b[38;5;21;01mwordcloud\u001b[39;00m \u001b[38;5;28;01mimport\u001b[39;00m WordCloud\n",
      "\u001b[1;31mModuleNotFoundError\u001b[0m: No module named 'wordcloud'"
     ]
    }
   ],
   "source": [
    "import tweepy\n",
    "from textblob import TextBlob\n",
    "import pandas as pd\n",
    "import numpy as np\n",
    "import  matplotlib.pyplot as plt\n",
    "import re\n",
    "from wordcloud import WordCloud"
   ]
  },
  {
   "cell_type": "code",
   "execution_count": 12,
   "metadata": {
    "executionInfo": {
     "elapsed": 20,
     "status": "ok",
     "timestamp": 1653905719444,
     "user": {
      "displayName": "ditiro rampate",
      "userId": "08759416330625146514"
     },
     "user_tz": 0
    },
    "id": "2QSgtuFUK9Kr"
   },
   "outputs": [],
   "source": []
  },
  {
   "cell_type": "code",
   "execution_count": 4,
   "metadata": {
    "executionInfo": {
     "elapsed": 18,
     "status": "ok",
     "timestamp": 1653905719445,
     "user": {
      "displayName": "ditiro rampate",
      "userId": "08759416330625146514"
     },
     "user_tz": 0
    },
    "id": "yeFUqvbg7i4U"
   },
   "outputs": [],
   "source": [
    "apiKey = \"RFpisddKPyeh5kKXMjSsF9v2k\" \n",
    "\n",
    "apiSecret = \"xg8hxlImmwxpWDMW7GFXb1bznYJxab0JAoH96UhftDckiNNRIX\" \n",
    "\n",
    "accessToken =\"752924292-lwKezVqihULknbM36s76q5AcMMrishIe3DdcQ6Um\" \n",
    "\n",
    "accessSecret = \"WqfkTPE7ioTQw79WHB3hvZ7SBt5Do1z8TXN9APqY9MTMw\" "
   ]
  },
  {
   "cell_type": "code",
   "execution_count": null,
   "metadata": {
    "executionInfo": {
     "elapsed": 18,
     "status": "ok",
     "timestamp": 1653905719447,
     "user": {
      "displayName": "ditiro rampate",
      "userId": "08759416330625146514"
     },
     "user_tz": 0
    },
    "id": "yVh40mHKKF9P"
   },
   "outputs": [],
   "source": []
  },
  {
   "cell_type": "code",
   "execution_count": 5,
   "metadata": {
    "colab": {
     "base_uri": "https://localhost:8080/"
    },
    "executionInfo": {
     "elapsed": 474,
     "status": "ok",
     "timestamp": 1653905719907,
     "user": {
      "displayName": "ditiro rampate",
      "userId": "08759416330625146514"
     },
     "user_tz": 0
    },
    "id": "F2IbpTLu8-6y",
    "outputId": "8848f12d-29a9-43b3-9ab8-f25c9f3daa3c"
   },
   "outputs": [
    {
     "name": "stdout",
     "output_type": "stream",
     "text": [
      "Successful Authentication\n"
     ]
    }
   ],
   "source": [
    "auth = tweepy.OAuthHandler(apiKey, apiSecret)\n",
    "auth.set_access_token(accessToken, accessSecret)\n",
    "api = tweepy.API(auth)\n",
    "\n",
    "try:\n",
    "    api.verify_credentials()\n",
    "    print('Successful Authentication')\n",
    "except:\n",
    "    print('Failed authentication')"
   ]
  },
  {
   "cell_type": "code",
   "execution_count": 6,
   "metadata": {
    "colab": {
     "base_uri": "https://localhost:8080/"
    },
    "executionInfo": {
     "elapsed": 17,
     "status": "ok",
     "timestamp": 1653905719909,
     "user": {
      "displayName": "ditiro rampate",
      "userId": "08759416330625146514"
     },
     "user_tz": 0
    },
    "id": "L458fOoHHOIh",
    "outputId": "996a3172-8469-4748-c44a-43b84267f341"
   },
   "outputs": [
    {
     "ename": "TypeError",
     "evalue": "get_user() takes 1 positional argument but 2 were given",
     "output_type": "error",
     "traceback": [
      "\u001b[1;31m---------------------------------------------------------------------------\u001b[0m",
      "\u001b[1;31mTypeError\u001b[0m                                 Traceback (most recent call last)",
      "Input \u001b[1;32mIn [6]\u001b[0m, in \u001b[0;36m<cell line: 1>\u001b[1;34m()\u001b[0m\n\u001b[1;32m----> 1\u001b[0m user \u001b[38;5;241m=\u001b[39m \u001b[43mapi\u001b[49m\u001b[38;5;241;43m.\u001b[39;49m\u001b[43mget_user\u001b[49m\u001b[43m(\u001b[49m\u001b[38;5;124;43m'\u001b[39;49m\u001b[38;5;124;43mditiro_dt\u001b[39;49m\u001b[38;5;124;43m'\u001b[39;49m\u001b[43m)\u001b[49m\n\u001b[0;32m      2\u001b[0m \u001b[38;5;28mprint\u001b[39m(user\u001b[38;5;241m.\u001b[39mname)\n\u001b[0;32m      3\u001b[0m \u001b[38;5;28mprint\u001b[39m(user\u001b[38;5;241m.\u001b[39mdescription)\n",
      "File \u001b[1;32m~\\anaconda3\\lib\\site-packages\\tweepy\\api.py:46\u001b[0m, in \u001b[0;36mpayload.<locals>.decorator.<locals>.wrapper\u001b[1;34m(*args, **kwargs)\u001b[0m\n\u001b[0;32m     44\u001b[0m kwargs[\u001b[38;5;124m'\u001b[39m\u001b[38;5;124mpayload_list\u001b[39m\u001b[38;5;124m'\u001b[39m] \u001b[38;5;241m=\u001b[39m payload_list\n\u001b[0;32m     45\u001b[0m kwargs[\u001b[38;5;124m'\u001b[39m\u001b[38;5;124mpayload_type\u001b[39m\u001b[38;5;124m'\u001b[39m] \u001b[38;5;241m=\u001b[39m payload_type\n\u001b[1;32m---> 46\u001b[0m \u001b[38;5;28;01mreturn\u001b[39;00m method(\u001b[38;5;241m*\u001b[39margs, \u001b[38;5;241m*\u001b[39m\u001b[38;5;241m*\u001b[39mkwargs)\n",
      "\u001b[1;31mTypeError\u001b[0m: get_user() takes 1 positional argument but 2 were given"
     ]
    }
   ],
   "source": [
    "user = api.get_user('ditiro_dt')\n",
    "print(user.name)\n",
    "print(user.description)\n",
    "print(user.location)"
   ]
  },
  {
   "cell_type": "code",
   "execution_count": 7,
   "metadata": {
    "colab": {
     "base_uri": "https://localhost:8080/"
    },
    "executionInfo": {
     "elapsed": 472,
     "status": "ok",
     "timestamp": 1653905720371,
     "user": {
      "displayName": "ditiro rampate",
      "userId": "08759416330625146514"
     },
     "user_tz": 0
    },
    "id": "DPfrf2Lk_e66",
    "outputId": "79de5d9a-bdb0-4af2-dbeb-2b0182273852"
   },
   "outputs": [
    {
     "name": "stdout",
     "output_type": "stream",
     "text": [
      "show the 5 recent twwets: \n",
      "\n",
      "1) The Department of Posts has for the first time delivered mail using a drone as part of a pilot project in Gujarat's… https://t.co/jMj2p93e5f\n",
      "\n",
      "2) Tucked in a remote corner of South Africa, this frightened village of 3,000 people has suffered a murder almost eve… https://t.co/2Fq939Z3Ym\n",
      "\n",
      "3) According to the FDA, at least 17 illnesses and 12 hospitalizations have been reported thus far across the country\n",
      "\n",
      "https://t.co/YVQOKAlg33\n",
      "\n",
      "4) Why these men hugged for 24 hours in Croatia. Watch!\n",
      "\n",
      "https://t.co/cTsdPp0EWa\n",
      "\n",
      "5) The second round of voting, which will take place on June 19, will decide who will emerge victorious\n",
      "\n",
      "https://t.co/6RBdQotc1o\n",
      "\n"
     ]
    }
   ],
   "source": [
    "#extracts 10000 tweets from twitter user\n",
    "posts = api.user_timeline(screen_name=\"WIONews\", count= 10000)\n",
    "\n",
    "#print the 5 ltest\n",
    "i=1\n",
    "print(\"show the 5 recent twwets: \\n\")\n",
    "for tweet in posts[0:5]:\n",
    "  print(str(i)+') ' +tweet.text+ '\\n')\n",
    "  i = i+1"
   ]
  },
  {
   "cell_type": "code",
   "execution_count": 8,
   "metadata": {
    "colab": {
     "base_uri": "https://localhost:8080/",
     "height": 206
    },
    "executionInfo": {
     "elapsed": 63,
     "status": "ok",
     "timestamp": 1653905720381,
     "user": {
      "displayName": "ditiro rampate",
      "userId": "08759416330625146514"
     },
     "user_tz": 0
    },
    "id": "DfnPkTkyBAhj",
    "outputId": "1bf8fdff-6882-4957-eb4e-5230ab977630"
   },
   "outputs": [
    {
     "data": {
      "text/html": [
       "<div>\n",
       "<style scoped>\n",
       "    .dataframe tbody tr th:only-of-type {\n",
       "        vertical-align: middle;\n",
       "    }\n",
       "\n",
       "    .dataframe tbody tr th {\n",
       "        vertical-align: top;\n",
       "    }\n",
       "\n",
       "    .dataframe thead th {\n",
       "        text-align: right;\n",
       "    }\n",
       "</style>\n",
       "<table border=\"1\" class=\"dataframe\">\n",
       "  <thead>\n",
       "    <tr style=\"text-align: right;\">\n",
       "      <th></th>\n",
       "      <th>Tweets</th>\n",
       "    </tr>\n",
       "  </thead>\n",
       "  <tbody>\n",
       "    <tr>\n",
       "      <th>0</th>\n",
       "      <td>The Department of Posts has for the first time...</td>\n",
       "    </tr>\n",
       "    <tr>\n",
       "      <th>1</th>\n",
       "      <td>Tucked in a remote corner of South Africa, thi...</td>\n",
       "    </tr>\n",
       "    <tr>\n",
       "      <th>2</th>\n",
       "      <td>According to the FDA, at least 17 illnesses an...</td>\n",
       "    </tr>\n",
       "    <tr>\n",
       "      <th>3</th>\n",
       "      <td>Why these men hugged for 24 hours in Croatia. ...</td>\n",
       "    </tr>\n",
       "    <tr>\n",
       "      <th>4</th>\n",
       "      <td>The second round of voting, which will take pl...</td>\n",
       "    </tr>\n",
       "  </tbody>\n",
       "</table>\n",
       "</div>"
      ],
      "text/plain": [
       "                                              Tweets\n",
       "0  The Department of Posts has for the first time...\n",
       "1  Tucked in a remote corner of South Africa, thi...\n",
       "2  According to the FDA, at least 17 illnesses an...\n",
       "3  Why these men hugged for 24 hours in Croatia. ...\n",
       "4  The second round of voting, which will take pl..."
      ]
     },
     "execution_count": 8,
     "metadata": {},
     "output_type": "execute_result"
    }
   ],
   "source": [
    "#create a df\n",
    "df =pd.DataFrame([tweet.text for tweet in posts], columns=[\"Tweets\"])\n",
    "df.head()"
   ]
  },
  {
   "cell_type": "code",
   "execution_count": null,
   "metadata": {
    "executionInfo": {
     "elapsed": 46,
     "status": "ok",
     "timestamp": 1653905724616,
     "user": {
      "displayName": "ditiro rampate",
      "userId": "08759416330625146514"
     },
     "user_tz": 0
    },
    "id": "yLuHcGqqs9wH"
   },
   "outputs": [],
   "source": []
  },
  {
   "cell_type": "code",
   "execution_count": 9,
   "metadata": {
    "executionInfo": {
     "elapsed": 45,
     "status": "ok",
     "timestamp": 1653905724618,
     "user": {
      "displayName": "ditiro rampate",
      "userId": "08759416330625146514"
     },
     "user_tz": 0
    },
    "id": "m9HwsmgleC7Q"
   },
   "outputs": [],
   "source": [
    "def cleanTweets(text):\n",
    "  punctuations = ['.', ',', '/', '!', '?', ';', ':', '(',')', '[',']', '-', '_', '%']\n",
    "  # Substituting multiple spaces with single space\n",
    "  text = re.sub(r'\\s+', ' ', text, flags=re.I) \n",
    "    # Remove all the special characters\n",
    "  text = re.sub(r'\\W', ' ', text)\n",
    "  text = re.sub(r'@[A-Za-z0-9]+','',text)\n",
    "  text = re.sub(r'#','',text)\n",
    "  text = re.sub(r'RT[\\s]+','',text)\n",
    "  text = re.sub(r'https?:\\/\\/\\S+','',text)\n",
    "\n",
    "\n",
    "  return text\n"
   ]
  },
  {
   "cell_type": "code",
   "execution_count": 10,
   "metadata": {
    "colab": {
     "base_uri": "https://localhost:8080/",
     "height": 206
    },
    "executionInfo": {
     "elapsed": 46,
     "status": "ok",
     "timestamp": 1653905724620,
     "user": {
      "displayName": "ditiro rampate",
      "userId": "08759416330625146514"
     },
     "user_tz": 0
    },
    "id": "Na2yj_AzgtBF",
    "outputId": "efaf1d41-709e-405f-ed2b-4f66a1bb56c3"
   },
   "outputs": [
    {
     "data": {
      "text/html": [
       "<div>\n",
       "<style scoped>\n",
       "    .dataframe tbody tr th:only-of-type {\n",
       "        vertical-align: middle;\n",
       "    }\n",
       "\n",
       "    .dataframe tbody tr th {\n",
       "        vertical-align: top;\n",
       "    }\n",
       "\n",
       "    .dataframe thead th {\n",
       "        text-align: right;\n",
       "    }\n",
       "</style>\n",
       "<table border=\"1\" class=\"dataframe\">\n",
       "  <thead>\n",
       "    <tr style=\"text-align: right;\">\n",
       "      <th></th>\n",
       "      <th>Tweets</th>\n",
       "    </tr>\n",
       "  </thead>\n",
       "  <tbody>\n",
       "    <tr>\n",
       "      <th>0</th>\n",
       "      <td>The Department of Posts has for the first time...</td>\n",
       "    </tr>\n",
       "    <tr>\n",
       "      <th>1</th>\n",
       "      <td>Tucked in a remote corner of South Africa  thi...</td>\n",
       "    </tr>\n",
       "    <tr>\n",
       "      <th>2</th>\n",
       "      <td>According to the FDA  at least 17 illnesses an...</td>\n",
       "    </tr>\n",
       "    <tr>\n",
       "      <th>3</th>\n",
       "      <td>Why these men hugged for 24 hours in Croatia  ...</td>\n",
       "    </tr>\n",
       "    <tr>\n",
       "      <th>4</th>\n",
       "      <td>The second round of voting  which will take pl...</td>\n",
       "    </tr>\n",
       "  </tbody>\n",
       "</table>\n",
       "</div>"
      ],
      "text/plain": [
       "                                              Tweets\n",
       "0  The Department of Posts has for the first time...\n",
       "1  Tucked in a remote corner of South Africa  thi...\n",
       "2  According to the FDA  at least 17 illnesses an...\n",
       "3  Why these men hugged for 24 hours in Croatia  ...\n",
       "4  The second round of voting  which will take pl..."
      ]
     },
     "execution_count": 10,
     "metadata": {},
     "output_type": "execute_result"
    }
   ],
   "source": [
    "df[\"Tweets\"]=  df[\"Tweets\"].apply(cleanTweets)\n",
    "df.head()"
   ]
  },
  {
   "cell_type": "code",
   "execution_count": 11,
   "metadata": {
    "executionInfo": {
     "elapsed": 46,
     "status": "ok",
     "timestamp": 1653905724624,
     "user": {
      "displayName": "ditiro rampate",
      "userId": "08759416330625146514"
     },
     "user_tz": 0
    },
    "id": "GMplBSVZhW-Y"
   },
   "outputs": [],
   "source": [
    "#subjectivity and polarity\n",
    "def getSubjectivity(text):\n",
    "  return TextBlob(text).sentiment.subjectivity\n",
    "\n",
    "def getPolarity(text):\n",
    "  return TextBlob(text).sentiment.polarity\n",
    "\n"
   ]
  },
  {
   "cell_type": "code",
   "execution_count": 12,
   "metadata": {
    "colab": {
     "base_uri": "https://localhost:8080/",
     "height": 206
    },
    "executionInfo": {
     "elapsed": 666,
     "status": "ok",
     "timestamp": 1653905725246,
     "user": {
      "displayName": "ditiro rampate",
      "userId": "08759416330625146514"
     },
     "user_tz": 0
    },
    "id": "V_PYedkyiXC-",
    "outputId": "61ca25d0-bfb0-4443-8bdb-f3e639b24fe4"
   },
   "outputs": [
    {
     "data": {
      "text/html": [
       "<div>\n",
       "<style scoped>\n",
       "    .dataframe tbody tr th:only-of-type {\n",
       "        vertical-align: middle;\n",
       "    }\n",
       "\n",
       "    .dataframe tbody tr th {\n",
       "        vertical-align: top;\n",
       "    }\n",
       "\n",
       "    .dataframe thead th {\n",
       "        text-align: right;\n",
       "    }\n",
       "</style>\n",
       "<table border=\"1\" class=\"dataframe\">\n",
       "  <thead>\n",
       "    <tr style=\"text-align: right;\">\n",
       "      <th></th>\n",
       "      <th>Tweets</th>\n",
       "      <th>Subjectivity</th>\n",
       "      <th>Polarity</th>\n",
       "    </tr>\n",
       "  </thead>\n",
       "  <tbody>\n",
       "    <tr>\n",
       "      <th>0</th>\n",
       "      <td>The Department of Posts has for the first time...</td>\n",
       "      <td>0.333333</td>\n",
       "      <td>0.25</td>\n",
       "    </tr>\n",
       "    <tr>\n",
       "      <th>1</th>\n",
       "      <td>Tucked in a remote corner of South Africa  thi...</td>\n",
       "      <td>0.200000</td>\n",
       "      <td>-0.10</td>\n",
       "    </tr>\n",
       "    <tr>\n",
       "      <th>2</th>\n",
       "      <td>According to the FDA  at least 17 illnesses an...</td>\n",
       "      <td>0.700000</td>\n",
       "      <td>-0.10</td>\n",
       "    </tr>\n",
       "    <tr>\n",
       "      <th>3</th>\n",
       "      <td>Why these men hugged for 24 hours in Croatia  ...</td>\n",
       "      <td>0.000000</td>\n",
       "      <td>0.00</td>\n",
       "    </tr>\n",
       "    <tr>\n",
       "      <th>4</th>\n",
       "      <td>The second round of voting  which will take pl...</td>\n",
       "      <td>0.200000</td>\n",
       "      <td>-0.10</td>\n",
       "    </tr>\n",
       "  </tbody>\n",
       "</table>\n",
       "</div>"
      ],
      "text/plain": [
       "                                              Tweets  Subjectivity  Polarity\n",
       "0  The Department of Posts has for the first time...      0.333333      0.25\n",
       "1  Tucked in a remote corner of South Africa  thi...      0.200000     -0.10\n",
       "2  According to the FDA  at least 17 illnesses an...      0.700000     -0.10\n",
       "3  Why these men hugged for 24 hours in Croatia  ...      0.000000      0.00\n",
       "4  The second round of voting  which will take pl...      0.200000     -0.10"
      ]
     },
     "execution_count": 12,
     "metadata": {},
     "output_type": "execute_result"
    }
   ],
   "source": [
    "df['Subjectivity'] = df[\"Tweets\"].apply(getSubjectivity)\n",
    "df['Polarity'] = df[\"Tweets\"].apply(getPolarity)\n",
    "df.head()"
   ]
  },
  {
   "cell_type": "code",
   "execution_count": 22,
   "metadata": {
    "colab": {
     "base_uri": "https://localhost:8080/",
     "height": 249
    },
    "executionInfo": {
     "elapsed": 1065,
     "status": "ok",
     "timestamp": 1653905726275,
     "user": {
      "displayName": "ditiro rampate",
      "userId": "08759416330625146514"
     },
     "user_tz": 0
    },
    "id": "3J6xVtkoi3zo",
    "outputId": "1fa4b8e1-5632-4a5c-fd09-cf16f4ee0786"
   },
   "outputs": [
    {
     "data": {
      "text/plain": [
       "(-0.5, 499.5, 299.5, -0.5)"
      ]
     },
     "execution_count": 22,
     "metadata": {},
     "output_type": "execute_result"
    },
    {
     "data": {
      "image/png": "[encoded data removed]",
      "text/plain": [
       "<Figure size 432x288 with 1 Axes>"
      ]
     },
     "metadata": {
      "needs_background": "light"
     },
     "output_type": "display_data"
    }
   ],
   "source": [
    "#wordclout\n",
    "allwords = ' '.join([twts for twts in df[\"Tweets\"]])#\n",
    "wordCloud = WordCloud(width = 500, height=300, random_state = 21, max_font_size =119).generate(allwords)\n",
    "\n",
    "plt.imshow(wordCloud,interpolation = \"bilinear\")\n",
    "plt.axis('off')"
   ]
  },
  {
   "cell_type": "code",
   "execution_count": 13,
   "metadata": {
    "colab": {
     "base_uri": "https://localhost:8080/",
     "height": 206
    },
    "executionInfo": {
     "elapsed": 89,
     "status": "ok",
     "timestamp": 1653905726284,
     "user": {
      "displayName": "ditiro rampate",
      "userId": "08759416330625146514"
     },
     "user_tz": 0
    },
    "id": "hfHu-6UfkdJK",
    "outputId": "41d11a7a-20b8-44be-d596-498c390bbc85"
   },
   "outputs": [
    {
     "data": {
      "text/html": [
       "<div>\n",
       "<style scoped>\n",
       "    .dataframe tbody tr th:only-of-type {\n",
       "        vertical-align: middle;\n",
       "    }\n",
       "\n",
       "    .dataframe tbody tr th {\n",
       "        vertical-align: top;\n",
       "    }\n",
       "\n",
       "    .dataframe thead th {\n",
       "        text-align: right;\n",
       "    }\n",
       "</style>\n",
       "<table border=\"1\" class=\"dataframe\">\n",
       "  <thead>\n",
       "    <tr style=\"text-align: right;\">\n",
       "      <th></th>\n",
       "      <th>Tweets</th>\n",
       "      <th>Subjectivity</th>\n",
       "      <th>Polarity</th>\n",
       "      <th>Analysis</th>\n",
       "    </tr>\n",
       "  </thead>\n",
       "  <tbody>\n",
       "    <tr>\n",
       "      <th>0</th>\n",
       "      <td>The Department of Posts has for the first time...</td>\n",
       "      <td>0.333333</td>\n",
       "      <td>0.25</td>\n",
       "      <td>Positive</td>\n",
       "    </tr>\n",
       "    <tr>\n",
       "      <th>1</th>\n",
       "      <td>Tucked in a remote corner of South Africa  thi...</td>\n",
       "      <td>0.200000</td>\n",
       "      <td>-0.10</td>\n",
       "      <td>Negative</td>\n",
       "    </tr>\n",
       "    <tr>\n",
       "      <th>2</th>\n",
       "      <td>According to the FDA  at least 17 illnesses an...</td>\n",
       "      <td>0.700000</td>\n",
       "      <td>-0.10</td>\n",
       "      <td>Negative</td>\n",
       "    </tr>\n",
       "    <tr>\n",
       "      <th>3</th>\n",
       "      <td>Why these men hugged for 24 hours in Croatia  ...</td>\n",
       "      <td>0.000000</td>\n",
       "      <td>0.00</td>\n",
       "      <td>Neutral</td>\n",
       "    </tr>\n",
       "    <tr>\n",
       "      <th>4</th>\n",
       "      <td>The second round of voting  which will take pl...</td>\n",
       "      <td>0.200000</td>\n",
       "      <td>-0.10</td>\n",
       "      <td>Negative</td>\n",
       "    </tr>\n",
       "  </tbody>\n",
       "</table>\n",
       "</div>"
      ],
      "text/plain": [
       "                                              Tweets  Subjectivity  Polarity  \\\n",
       "0  The Department of Posts has for the first time...      0.333333      0.25   \n",
       "1  Tucked in a remote corner of South Africa  thi...      0.200000     -0.10   \n",
       "2  According to the FDA  at least 17 illnesses an...      0.700000     -0.10   \n",
       "3  Why these men hugged for 24 hours in Croatia  ...      0.000000      0.00   \n",
       "4  The second round of voting  which will take pl...      0.200000     -0.10   \n",
       "\n",
       "   Analysis  \n",
       "0  Positive  \n",
       "1  Negative  \n",
       "2  Negative  \n",
       "3   Neutral  \n",
       "4  Negative  "
      ]
     },
     "execution_count": 13,
     "metadata": {},
     "output_type": "execute_result"
    }
   ],
   "source": [
    "#negative, neutral and positive analysis\n",
    "def getAnalysis(score):\n",
    "  if score < 0:\n",
    "    return \"Negative\"\n",
    "  elif score ==0:\n",
    "    return \"Neutral\"\n",
    "  else:\n",
    "    return \"Positive\"\n",
    "\n",
    "df[\"Analysis\"]=df[\"Polarity\"].apply(getAnalysis)\n",
    "df.head()"
   ]
  },
  {
   "cell_type": "code",
   "execution_count": 14,
   "metadata": {
    "colab": {
     "base_uri": "https://localhost:8080/"
    },
    "executionInfo": {
     "elapsed": 83,
     "status": "ok",
     "timestamp": 1653905726287,
     "user": {
      "displayName": "ditiro rampate",
      "userId": "08759416330625146514"
     },
     "user_tz": 0
    },
    "id": "4uOU6uWCoEUH",
    "outputId": "c5cfa53b-1817-4967-bd81-197643c916e2"
   },
   "outputs": [
    {
     "name": "stdout",
     "output_type": "stream",
     "text": [
      "1) The Department of Posts has for the first time delivered mail using a drone as part of a pilot project in Gujarat s  https   t co jMj2p93e5f\n",
      "\n",
      "2) After widespread panic on social media  India has withdrawn a warning about not to share photocopies of the  https   t co 44ZEWjb17J\n",
      "\n",
      "3) Shruti Sharma took first place in the exam  with Ankita Agarwal and Gamini Singla coming in second and third  respe  https   t co VjG9AxVgOK\n",
      "\n",
      "4) Pakistan has debuted at the Cannes film festival with its independent movie  Joyland  nominated in the Un Certain R  https   t co oBujBiJcMm\n",
      "\n",
      "5) As India and Pakistan meet for the annual meeting under the  IndusWaterTreaty in New Delhi  let us get acquainted w  https   t co 69uf4Djwle\n",
      "\n",
      "6) Scotland s Tom Stoltman reigned supreme in the final of the World s Strongest Man 2022 competition to win the prest  https   t co cXDk9E3YUx\n",
      "\n",
      "7)  Partygate  More trouble for UK PM Boris Johnson as his wife is now under the scanner  Watch  https   t co aNw1uRNzU3\n",
      "\n",
      "8) Netizens have found uncanny coincidences between popular Punjabi singer rapper  SidhuMooseWala s death and his song  https   t co TmPn8kXkZu\n",
      "\n",
      "9) Gujarat Titans  GT  star Shubman Gill was elated after winning his maiden IPL title with the Hardik Pandya led side  https   t co ie4dAGVXIX\n",
      "\n",
      "10) In what is dubbed as a bit of a turn of events  former leftist rebels and popular businessman have taken the top tw  https   t co blGl01jN90\n",
      "\n",
      "11) PM Modi lauds India s 100 unicorns milestone  says trend reflects spirit of new India  Watch the video  https   t co y0T3kJeNB6\n",
      "\n",
      "12) North Korea has lifted movement restrictions imposed in the capital Pyongyang after its first admission of  COVID19  https   t co YhgvZSBWYO\n",
      "\n",
      "13) Nepal has a new record in its kitty  A 17 year old teen has been crowned with the title of the world s shortage liv  https   t co BXh5My8DIM\n",
      "\n",
      "14) Pope Francis has announced that he will name 21 new cardinals in the Vatican on August 27  16 among 21 cardinals ca  https   t co sYKs6rdSTP\n",
      "\n",
      "15) Indus water talks between Pakistan and India begins today in New Delhi  Watch  https   t co PfvOZ5s0yV\n",
      "\n",
      "16) Punjabi singer rapper  SidhuMooseWala s fans held a protest outside the Mansa civil hospital  demanding action agai  https   t co 9S4xdHDFqD\n",
      "\n",
      "17) Rafael Nadal managed to edge Canadian ninth seed Felix Auger Aliassime in a thrilling contest on Sunday to set up a  https   t co BFCg00FXQ2\n",
      "\n",
      "18) WIONShowbiz  From Ranveer Singh and Vicky Kaushal to Shehnaaz Gil and comedian Lilly Sing and even rapper Drake took to social media to \n",
      "\n",
      "19)  SidhuMoosewala  whose real name is Shubhdeep Singh Sidhu  was killed in broad daylight in the Mansa district in Pu  https   t co urF92I11Cs\n",
      "\n",
      "20)  InPics   5 iconic statues unveiled by  narendramodi government  ModiAt8 https   t co u5v1EbWlNg\n",
      "\n",
      "21) In medical language   Fetus in Fetu  means the presence of a fetus in the stomach of the child  It is highly rare a  https   t co CZdbZFj7gR\n",
      "\n",
      "22) Gujarat Titans  GT  skipper Hardik Pandya said he considers himself lucky to have won five IPL finals so far after  https   t co bZ9kdzZbRr\n",
      "\n",
      "23) WIONShowbiz  Hollywood star Dwayne Johnson has shared that his 4 year old daughter  refused to believe  that he had voiced a character \n",
      "\n",
      "24) Intensifying the world s supply chain woes and challenging efforts  the Covid zero strategy in China has forced cen  https   t co I9kAqhKcNq\n",
      "\n",
      "25) Former US President  BarackObama shared his virtual reunion with Jacob Philadelphia  the boy who famously touched h  https   t co JOUsfO67l3\n",
      "\n",
      "26) Asian stocks tracked Wall Street higher while the dollar was pinned near five week lows as investors wagered on an  https   t co tGgAD89bDc\n",
      "\n",
      "27) European low cost airline  Ryanair  said bookings looked very strong for the summer and the load factor should grad  https   t co ZHJ3C9zVIr\n",
      "\n",
      "28) Reflecting strengthening economic ties between the two countries  the US has surpassed China to become India s top  https   t co bIhuxluzsk\n",
      "\n",
      "29) Australia s market regulator has commenced civil penalty proceedings against Australia and New Zealand Banking Grou  https   t co Mza44q8fBa\n",
      "\n",
      "30) SoftBank s top executives have seen a steep cut in their paycheques as the Japanese conglomerate marked a historic  https   t co RHnPduraW2\n",
      "\n",
      "31) The Nepali Army has managed to reach the wreckage of the Tara Air plane and has shared the first images from the si  https   t co IxqyXFbBCP\n",
      "\n",
      "32)  TodayInHistory   1913  First Balkan War ends  creating an independent nation   Albania https   t co wA9hXqSHH5\n",
      "\n",
      "33) This week on South Asia Diary with  MaroWardak   South Asia could face frequent heat waves  Maldives plans to recl  https   t co PfzV9QZp7W\n",
      "\n",
      "34) WIONShowbiz  Tom Cruise may have pulled off one of the most daring stunts of his career    getting audiences to go to the movies for so \n",
      "\n",
      "35) After Gujarat Titans  GT  won the IPL 2022 edition  here s a list of complete IPL winners since the inaugural editi  https   t co INLdgEiyZy\n",
      "\n",
      "36) The disaster is the latest in a recent series of deadly landslides and floods triggered by extreme weather in Brazi  https   t co tvDV6iTu8M\n",
      "\n",
      "37)  TodayInHistory   1883  Stampede on newly opened Brooklyn Bridge in New York kills 12 https   t co q6aBgKX1t6\n",
      "\n",
      "38) In most of the prestigious universities in China  students are mandated to learn swimming before they graduate as i  https   t co I9ldGF4Wdq\n",
      "\n",
      "39) Year after tensions in Jerusalem exploded in war  thousands of Israelis marched through Jerusalem s old city for th  https   t co PEJqUZlFt1\n",
      "\n",
      "40) Five member Pakistani delegation has arrived in New Delhi for the 118th edition of bilateral talks on the Indus Wat  https   t co s75QRQrOwj\n",
      "\n",
      "41) After Gujarat Titans  GT  won the  IPL2022 edition  here s a list of complete IPL winners since the inaugural editi  https   t co r9lVssKQdS\n",
      "\n",
      "42)  TodayInHistory   1845  First ship carrying indentured labourers from India lands in Trinidad https   t co e9SIAkaF8B\n",
      "\n",
      "43) The Punjab Police said that Canada based gangster Goldy Brar and his aide Lawrence Bishnoi were responsible for the  https   t co lFkSYFnbaV\n",
      "\n",
      "44)  InPics    TexasSchoolMassacre used an assault rifle that is inexpensive  easy to use  and deadly efficient  This h  https   t co 5TwmPvO6Qg\n",
      "\n",
      "45)  InPics   As the  Ellen DeGeneres Show  is set to end this month  here are the most awkward and controversial momen  https   t co KWTZJnsV3a\n",
      "\n",
      "46)  InPics   America s  GunViolence kills hundreds every day  Is 2nd amendment worth the lives lost  The number of f  https   t co JwSJ18hhUb\n",
      "\n",
      "47) After Gujarat Titans  GT  won the  IPL2022 edition  here s a list of complete IPL winners since the inaugural editi  https   t co 1BhQwFFzb6\n",
      "\n",
      "48) Singer  KanikaKapoor  known for belting out hits such as  Baby Doll  and  Chittiyyan Kalaiyan Ve  among many others  https   t co rhMvJ1uZAY\n",
      "\n",
      "49) Mexican Sergio Perez won a rain delayed  crash halted and ultimately nail biting Monaco Grand Prix on Sunday as Red  https   t co jEje205tFk\n",
      "\n",
      "50) American rapper and songwriter Snoop Dogg has stated that he was not expecting to see the legendary Tupac Shakur in  https   t co fiECtwI4KF\n",
      "\n",
      "51) This week on South Asia Diary with  MaroWardak   South Asia could face frequent heat waves  Maldives plans to recl  https   t co tigW2wCzJq\n",
      "\n",
      "52)  CannesFilmFestival2022   Pakistani film  Joyland  made history as the Queer movie  which was the country s first e  https   t co qN7ofjvYkC\n",
      "\n",
      "53) A new study has said that the Earth s core  which is composed of molten nickel and iron  is rusting  The study was  https   t co yDA2KivjS8\n",
      "\n",
      "54) Manchester United have announced on Sunday that former interim manager Ralf Rangnick will not be staying at Old Tra  https   t co 5iKKji6M8F\n",
      "\n",
      "55) Here are the top 10 stories from across the world https   t co lvi319ClIY\n",
      "\n",
      "56) BCCI Secretary Jay Shah has confirmed that there will be no bio bubble for the forthcoming India South Africa T20I  https   t co sUF5N5npGM\n",
      "\n",
      "57) WIONShowbiz   CannesFilmFestival2022   Pakistani film  Joyland  made history as the Queer movie  which was the country s first entry in \n",
      "\n",
      "58) The day has finally come  Fans of legendary actor Aamir Khan can see their icon step into the shoes of Laal Singh C  https   t co 4oDDHTfc3J\n",
      "\n",
      "59) To match his ladylove KIm Kardashian  Pete Davidson has also dyed his hair blond and fans are super excited to see  https   t co m3KNNN3HU3\n",
      "\n",
      "60)  LIVE   In case you ve missed it over the week  here s the best of  GravitasTokyoEdition  where  palkisu walks you  https   t co g4PAhbkYdi\n",
      "\n",
      "61) Jerusalem is on high alert ahead of the Israeli flag march  3 000 policemen have been deployed in the city   https   t co FClvUBBazE\n",
      "\n",
      "62) Mumbai Indians  MI  batter Suryakumar Yadav has already set his goals clear for IPL 2023 and wants to win the sixth  https   t co T2JXAPIrn4\n",
      "\n",
      "63)  Watch   Japan is known as the pioneer of Asian soft power  From Magna to Anime  from Pokemon to J Pop  Japan has c  https   t co zlK3O1xMGD\n",
      "\n",
      "64)  GTvsRR live score and updates  Catch all the latest updates as Sanju Samson led Rajasthan Royals take on Hardik Pa  https   t co 774Ppq5WmB\n",
      "\n",
      "65)  Watch   Inflation is setting new records globally  Japan is feeling the pinch too  but its record inflation is jus  https   t co YfCxPJeysR\n",
      "\n",
      "66) As per an audio circulating online  the ousted Pakistan PM Imran Khan has requested real estate tycoon Malik Riaz t  https   t co jFRiDk4Oxl\n",
      "\n",
      "67) Jerusalem is on high alert ahead of the Israeli flag march that is set to take place later today  The March has spa  https   t co vO93CcRaJG\n",
      "\n",
      "68) Former Pakistan cricket team fast bowler Shoaib Akhtar picked Gujarat Titans to win the  IPL2022 final against Raja  https   t co lPgfYnneOp\n",
      "\n",
      "69) Rajasthan Royals  RR  and Gujarat Titans  GT  will lock horns with each other in the much awaited final of  IPL2022  https   t co OLlXHT9JGw\n",
      "\n",
      "70) Liverpool left back Andy Robertson labelled the organisation of Saturday s  ChampionsLeagueFinal against Real Madri  https   t co TsZbrf9V9z\n",
      "\n",
      "71) A 390 million year old fish like creature with four limbs that was discovered in Scotland in the 1890s has been rev  https   t co dcAZrcvG4Z\n",
      "\n",
      "72) Jerusalem is on high alert ahead of the Israeli flag march on  JerusalemDay amid threats from Hamas  Ahead of it  v  https   t co 77cYFexTOG\n",
      "\n",
      "73) Real Madrid Florentino Perez said Kylian Mbappe has already been forgotten by the club after the French striker rej  https   t co qvgDH3bSZw\n",
      "\n",
      "74) Watch  This adorable robotic crab is the  smallest ever  remote controlled walking robot https   t co AbR798Z4cD\n",
      "\n",
      "75) Researchers have stated that men tend to be the frequent victims of mosquitoes mainly because of their body size https   t co RMI86z0sgP\n",
      "\n",
      "76)  InPics   America s gun culture kills hundreds every day  Is 2nd amendment worth the lives lost  Here s the data https   t co Gqk3Ltz7JX\n",
      "\n",
      "77) As more helicopters are on standby at Kathmandu  Pokhara  and Jomsom airports for search and rescue operations  the  https   t co Xw6U4cGP9I\n",
      "\n",
      "78) Have you heard of the Renko ji temple in Tokyo  It s very special for the Indian community  Why  Because inside thi  https   t co m6SY8SUm6S\n",
      "\n",
      "79) The collateral damage of the Ukraine war has been huge  From brewing energy shortage in Europe to rising inflation  https   t co 7R9h5SYjsr\n",
      "\n",
      "80) Gustavo Petro vs Federico Gutierrez  After long debates between the candidates  Colombians are ready to choose thei  https   t co piTLRhLi5J\n",
      "\n",
      "81)  TodayInHistory   1999  Olusegun Obasanjo wins Nigeria s first free elections in 16 years https   t co cIAGneYFjA\n",
      "\n",
      "82) Jerusalem is on high alert ahead of the Israeli Flag March that is set to take place later today  Ahead of the marc  https   t co ymqCNXxMvT\n",
      "\n",
      "83) WIONShowbiz  Filmmaker Shaunak Sen s documentary has also previously won the World Cinema Grand Jury Prize in the documentary section a \n",
      "\n",
      "84) India is expected to face a wider coal shortage during the third quarter of 2022 due to expectations of higher elec  https   t co KYvmkzggUp\n",
      "\n",
      "85) Over the last several years  China has been criticised for its treatment of Uighurs minority Muslims  Now  UN Right  https   t co DzH9DVD3gM\n",
      "\n",
      "86) For fuller looking lips and the perfect pout  try out these easy lip plumping techniques and hacks approved by expe  https   t co 51PypGrsu7\n",
      "\n",
      "87) A five member delegation of Pakistan approved by Prime Minister Shehbaz Sharif will visit New Delhi on Monday  with  https   t co APxPUzQsqV\n",
      "\n",
      "88) WIONShowbiz  Deepika Padukone dons gorgeous white saree by Abu Jani Sandeep Khosla as she bid adieu to  CannesFilmFestival2022  deepik \n",
      "\n"
     ]
    }
   ],
   "source": [
    "#positive tweets\n",
    "j = 1\n",
    "sortedDF = df.sort_values(by=[\"Polarity\"])\n",
    "for i in range(0, sortedDF.shape[0]):\n",
    "  if(sortedDF['Analysis'][i]=='Positive'):\n",
    "    print(str(j) +') '+ sortedDF['Tweets'][i])\n",
    "    print()\n",
    "    j =j+1"
   ]
  },
  {
   "cell_type": "code",
   "execution_count": 15,
   "metadata": {
    "colab": {
     "base_uri": "https://localhost:8080/"
    },
    "executionInfo": {
     "elapsed": 92,
     "status": "ok",
     "timestamp": 1653905726304,
     "user": {
      "displayName": "ditiro rampate",
      "userId": "08759416330625146514"
     },
     "user_tz": 0
    },
    "id": "mIm1CKhqreZv",
    "outputId": "c71cbed7-e3e0-4af9-fcf3-99e7411c8ea1"
   },
   "outputs": [
    {
     "ename": "ValueError",
     "evalue": "For argument \"ascending\" expected type bool, received type str.",
     "output_type": "error",
     "traceback": [
      "\u001b[1;31m---------------------------------------------------------------------------\u001b[0m",
      "\u001b[1;31mValueError\u001b[0m                                Traceback (most recent call last)",
      "Input \u001b[1;32mIn [15]\u001b[0m, in \u001b[0;36m<cell line: 3>\u001b[1;34m()\u001b[0m\n\u001b[0;32m      1\u001b[0m \u001b[38;5;66;03m#positive tweets\u001b[39;00m\n\u001b[0;32m      2\u001b[0m j \u001b[38;5;241m=\u001b[39m \u001b[38;5;241m1\u001b[39m\n\u001b[1;32m----> 3\u001b[0m sortedDF \u001b[38;5;241m=\u001b[39m \u001b[43mdf\u001b[49m\u001b[38;5;241;43m.\u001b[39;49m\u001b[43msort_values\u001b[49m\u001b[43m(\u001b[49m\u001b[43mby\u001b[49m\u001b[38;5;241;43m=\u001b[39;49m\u001b[43m[\u001b[49m\u001b[38;5;124;43m\"\u001b[39;49m\u001b[38;5;124;43mPolarity\u001b[39;49m\u001b[38;5;124;43m\"\u001b[39;49m\u001b[43m]\u001b[49m\u001b[43m,\u001b[49m\u001b[43m \u001b[49m\u001b[43mascending\u001b[49m\u001b[38;5;241;43m=\u001b[39;49m\u001b[38;5;124;43m\"\u001b[39;49m\u001b[38;5;124;43mFalse\u001b[39;49m\u001b[38;5;124;43m\"\u001b[39;49m\u001b[43m)\u001b[49m\n\u001b[0;32m      4\u001b[0m \u001b[38;5;28;01mfor\u001b[39;00m i \u001b[38;5;129;01min\u001b[39;00m \u001b[38;5;28mrange\u001b[39m(\u001b[38;5;241m0\u001b[39m, sortedDF\u001b[38;5;241m.\u001b[39mshape[\u001b[38;5;241m0\u001b[39m]):\n\u001b[0;32m      5\u001b[0m   \u001b[38;5;28;01mif\u001b[39;00m(sortedDF[\u001b[38;5;124m'\u001b[39m\u001b[38;5;124mAnalysis\u001b[39m\u001b[38;5;124m'\u001b[39m][i]\u001b[38;5;241m==\u001b[39m\u001b[38;5;124m'\u001b[39m\u001b[38;5;124mNegative\u001b[39m\u001b[38;5;124m'\u001b[39m):\n",
      "File \u001b[1;32m~\\anaconda3\\lib\\site-packages\\pandas\\util\\_decorators.py:311\u001b[0m, in \u001b[0;36mdeprecate_nonkeyword_arguments.<locals>.decorate.<locals>.wrapper\u001b[1;34m(*args, **kwargs)\u001b[0m\n\u001b[0;32m    305\u001b[0m \u001b[38;5;28;01mif\u001b[39;00m \u001b[38;5;28mlen\u001b[39m(args) \u001b[38;5;241m>\u001b[39m num_allow_args:\n\u001b[0;32m    306\u001b[0m     warnings\u001b[38;5;241m.\u001b[39mwarn(\n\u001b[0;32m    307\u001b[0m         msg\u001b[38;5;241m.\u001b[39mformat(arguments\u001b[38;5;241m=\u001b[39marguments),\n\u001b[0;32m    308\u001b[0m         \u001b[38;5;167;01mFutureWarning\u001b[39;00m,\n\u001b[0;32m    309\u001b[0m         stacklevel\u001b[38;5;241m=\u001b[39mstacklevel,\n\u001b[0;32m    310\u001b[0m     )\n\u001b[1;32m--> 311\u001b[0m \u001b[38;5;28;01mreturn\u001b[39;00m func(\u001b[38;5;241m*\u001b[39margs, \u001b[38;5;241m*\u001b[39m\u001b[38;5;241m*\u001b[39mkwargs)\n",
      "File \u001b[1;32m~\\anaconda3\\lib\\site-packages\\pandas\\core\\frame.py:6286\u001b[0m, in \u001b[0;36mDataFrame.sort_values\u001b[1;34m(self, by, axis, ascending, inplace, kind, na_position, ignore_index, key)\u001b[0m\n\u001b[0;32m   6284\u001b[0m inplace \u001b[38;5;241m=\u001b[39m validate_bool_kwarg(inplace, \u001b[38;5;124m\"\u001b[39m\u001b[38;5;124minplace\u001b[39m\u001b[38;5;124m\"\u001b[39m)\n\u001b[0;32m   6285\u001b[0m axis \u001b[38;5;241m=\u001b[39m \u001b[38;5;28mself\u001b[39m\u001b[38;5;241m.\u001b[39m_get_axis_number(axis)\n\u001b[1;32m-> 6286\u001b[0m ascending \u001b[38;5;241m=\u001b[39m \u001b[43mvalidate_ascending\u001b[49m\u001b[43m(\u001b[49m\u001b[43mascending\u001b[49m\u001b[43m)\u001b[49m\n\u001b[0;32m   6287\u001b[0m \u001b[38;5;28;01mif\u001b[39;00m \u001b[38;5;129;01mnot\u001b[39;00m \u001b[38;5;28misinstance\u001b[39m(by, \u001b[38;5;28mlist\u001b[39m):\n\u001b[0;32m   6288\u001b[0m     by \u001b[38;5;241m=\u001b[39m [by]\n",
      "File \u001b[1;32m~\\anaconda3\\lib\\site-packages\\pandas\\util\\_validators.py:433\u001b[0m, in \u001b[0;36mvalidate_ascending\u001b[1;34m(ascending)\u001b[0m\n\u001b[0;32m    431\u001b[0m kwargs \u001b[38;5;241m=\u001b[39m {\u001b[38;5;124m\"\u001b[39m\u001b[38;5;124mnone_allowed\u001b[39m\u001b[38;5;124m\"\u001b[39m: \u001b[38;5;28;01mFalse\u001b[39;00m, \u001b[38;5;124m\"\u001b[39m\u001b[38;5;124mint_allowed\u001b[39m\u001b[38;5;124m\"\u001b[39m: \u001b[38;5;28;01mTrue\u001b[39;00m}\n\u001b[0;32m    432\u001b[0m \u001b[38;5;28;01mif\u001b[39;00m \u001b[38;5;129;01mnot\u001b[39;00m \u001b[38;5;28misinstance\u001b[39m(ascending, (\u001b[38;5;28mlist\u001b[39m, \u001b[38;5;28mtuple\u001b[39m)):\n\u001b[1;32m--> 433\u001b[0m     \u001b[38;5;28;01mreturn\u001b[39;00m validate_bool_kwarg(ascending, \u001b[38;5;124m\"\u001b[39m\u001b[38;5;124mascending\u001b[39m\u001b[38;5;124m\"\u001b[39m, \u001b[38;5;241m*\u001b[39m\u001b[38;5;241m*\u001b[39mkwargs)\n\u001b[0;32m    435\u001b[0m \u001b[38;5;28;01mreturn\u001b[39;00m [validate_bool_kwarg(item, \u001b[38;5;124m\"\u001b[39m\u001b[38;5;124mascending\u001b[39m\u001b[38;5;124m\"\u001b[39m, \u001b[38;5;241m*\u001b[39m\u001b[38;5;241m*\u001b[39mkwargs) \u001b[38;5;28;01mfor\u001b[39;00m item \u001b[38;5;129;01min\u001b[39;00m ascending]\n",
      "File \u001b[1;32m~\\anaconda3\\lib\\site-packages\\pandas\\util\\_validators.py:251\u001b[0m, in \u001b[0;36mvalidate_bool_kwarg\u001b[1;34m(value, arg_name, none_allowed, int_allowed)\u001b[0m\n\u001b[0;32m    248\u001b[0m     good_value \u001b[38;5;241m=\u001b[39m good_value \u001b[38;5;129;01mor\u001b[39;00m \u001b[38;5;28misinstance\u001b[39m(value, \u001b[38;5;28mint\u001b[39m)\n\u001b[0;32m    250\u001b[0m \u001b[38;5;28;01mif\u001b[39;00m \u001b[38;5;129;01mnot\u001b[39;00m good_value:\n\u001b[1;32m--> 251\u001b[0m     \u001b[38;5;28;01mraise\u001b[39;00m \u001b[38;5;167;01mValueError\u001b[39;00m(\n\u001b[0;32m    252\u001b[0m         \u001b[38;5;124mf\u001b[39m\u001b[38;5;124m'\u001b[39m\u001b[38;5;124mFor argument \u001b[39m\u001b[38;5;124m\"\u001b[39m\u001b[38;5;132;01m{\u001b[39;00marg_name\u001b[38;5;132;01m}\u001b[39;00m\u001b[38;5;124m\"\u001b[39m\u001b[38;5;124m expected type bool, received \u001b[39m\u001b[38;5;124m'\u001b[39m\n\u001b[0;32m    253\u001b[0m         \u001b[38;5;124mf\u001b[39m\u001b[38;5;124m\"\u001b[39m\u001b[38;5;124mtype \u001b[39m\u001b[38;5;132;01m{\u001b[39;00m\u001b[38;5;28mtype\u001b[39m(value)\u001b[38;5;241m.\u001b[39m\u001b[38;5;18m__name__\u001b[39m\u001b[38;5;132;01m}\u001b[39;00m\u001b[38;5;124m.\u001b[39m\u001b[38;5;124m\"\u001b[39m\n\u001b[0;32m    254\u001b[0m     )\n\u001b[0;32m    255\u001b[0m \u001b[38;5;28;01mreturn\u001b[39;00m value\n",
      "\u001b[1;31mValueError\u001b[0m: For argument \"ascending\" expected type bool, received type str."
     ]
    }
   ],
   "source": [
    "#positive tweets\n",
    "j = 1\n",
    "sortedDF = df.sort_values(by=[\"Polarity\"], ascending=\"False\")\n",
    "for i in range(0, sortedDF.shape[0]):\n",
    "  if(sortedDF['Analysis'][i]=='Negative'):\n",
    "    print(str(j) +') '+ sortedDF['Tweets'][i])\n",
    "    print()\n",
    "    j =j+1"
   ]
  },
  {
   "cell_type": "code",
   "execution_count": null,
   "metadata": {
    "colab": {
     "base_uri": "https://localhost:8080/"
    },
    "executionInfo": {
     "elapsed": 87,
     "status": "ok",
     "timestamp": 1653905726309,
     "user": {
      "displayName": "ditiro rampate",
      "userId": "08759416330625146514"
     },
     "user_tz": 0
    },
    "id": "jlORKHRGr6It",
    "outputId": "c4099cc3-e8ec-4a93-a779-dc7fb4cfeadc"
   },
   "outputs": [],
   "source": [
    "#positive tweets\n",
    "j = 1\n",
    "sortedDF = df.sort_values(by=[\"Polarity\"])\n",
    "for i in range(0, sortedDF.shape[0]):\n",
    "  if(sortedDF['Analysis'][i]=='Neutral'):\n",
    "    print(str(j) +') '+ sortedDF['Tweets'][i])\n",
    "    print()\n",
    "    j =j+1"
   ]
  },
  {
   "cell_type": "code",
   "execution_count": null,
   "metadata": {
    "colab": {
     "base_uri": "https://localhost:8080/",
     "height": 404
    },
    "executionInfo": {
     "elapsed": 734,
     "status": "ok",
     "timestamp": 1653905726965,
     "user": {
      "displayName": "ditiro rampate",
      "userId": "08759416330625146514"
     },
     "user_tz": 0
    },
    "id": "XIwNPIQlsMB4",
    "outputId": "bcaf5359-e2e0-4235-8664-be1c31df159f"
   },
   "outputs": [],
   "source": [
    "#plot the analysis\n",
    "plt.figure(figsize=(8,6))\n",
    "for i in range(0,df.shape[0]):\n",
    "  plt.scatter(df['Polarity'][i], df['Subjectivity'][i], color=\"Blue\")\n",
    "plt.title('Sentiments Analysis')\n",
    "plt.xlabel('Polarity')\n",
    "plt.ylabel('Subjectivity')\n",
    "plt.show()\n"
   ]
  },
  {
   "cell_type": "code",
   "execution_count": 17,
   "metadata": {
    "executionInfo": {
     "elapsed": 15,
     "status": "ok",
     "timestamp": 1653905726968,
     "user": {
      "displayName": "ditiro rampate",
      "userId": "08759416330625146514"
     },
     "user_tz": 0
    },
    "id": "pmEOmd6FxGzy"
   },
   "outputs": [],
   "source": [
    "df.to_csv('Tweets.csv', index=False)"
   ]
  },
  {
   "cell_type": "code",
   "execution_count": null,
   "metadata": {
    "id": "YqKuPKPudk3b"
   },
   "outputs": [],
   "source": []
  },
  {
   "cell_type": "code",
   "execution_count": null,
   "metadata": {},
   "outputs": [],
   "source": []
  }
 ],
 "metadata": {
  "colab": {
   "authorship_tag": "ABX9TyPIC3zWGJEdaxddiVTv0LpL",
   "name": "twitter.ipynb",
   "provenance": []
  },
  "kernelspec": {
   "display_name": "Python 3 (ipykernel)",
   "language": "python",
   "name": "python3"
  },
  "language_info": {
   "codemirror_mode": {
    "name": "ipython",
    "version": 3
   },
   "file_extension": ".py",
   "mimetype": "text/x-python",
   "name": "python",
   "nbconvert_exporter": "python",
   "pygments_lexer": "ipython3",
   "version": "3.9.12"
  }
 },
 "nbformat": 4,
 "nbformat_minor": 1
}
